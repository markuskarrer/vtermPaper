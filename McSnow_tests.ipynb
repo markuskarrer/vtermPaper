{
 "cells": [
  {
   "cell_type": "markdown",
   "metadata": {},
   "source": [
    "Get familiar with McSnow"
   ]
  },
  {
   "cell_type": "code",
   "execution_count": 2,
   "metadata": {},
   "outputs": [],
   "source": [
    "#import packages\n",
    "import numpy as np\n",
    "import matplotlib.pyplot as plt\n",
    "import sys\n",
    "#import custom functions\n",
    "sys.path.append('functions')\n",
    "#from plotting_functions import plot1Dhist"
   ]
  },
  {
   "cell_type": "code",
   "execution_count": 3,
   "metadata": {},
   "outputs": [],
   "source": [
    "#load asci with all timesteps and all SPs\n",
    "allSPalltimesteps = np.loadtxt(\"/home/mkarrer/Dokumente/McSnow/MCSNOW/experiments/1d_xi100000_nz5000_lwc20_ncl0_dtc5_nrp30_rm10_rt2_vt2_h10-20_ba500/mass2fr.dat\")"
   ]
  },
  {
   "cell_type": "code",
   "execution_count": 4,
   "metadata": {},
   "outputs": [],
   "source": [
    "#TODO: divide timesteps\n",
    "allSP = allSPalltimesteps"
   ]
  },
  {
   "cell_type": "code",
   "execution_count": 5,
   "metadata": {},
   "outputs": [],
   "source": [
    "#read individual properties of the SPs\n",
    "m_tot = allSP[:,0] #read mass of all particles\n",
    "diam = allSP[:,9] #diameter\n",
    "multipl = allSP[:,-1] #multiplicity"
   ]
  },
  {
   "cell_type": "code",
   "execution_count": 6,
   "metadata": {},
   "outputs": [],
   "source": [
    "#define bins\n",
    "n_bins = 100\n",
    "d_bound_ds = np.logspace(-12,0,n_bins+1)\n",
    "d_ds = d_bound_ds[:-1] + 0.5*np.diff(d_bound_ds)\n",
    "d_counts = np.zeros(n_bins)\n",
    "#get the number of particles (SP*multiplicity) at each bin\n",
    "for i in range(0,n_bins):\n",
    "    d_counts[i] = np.sum(np.where(np.logical_and(d_bound_ds[i]<diam,diam<d_bound_ds[i+1]),multipl,0))"
   ]
  },
  {
   "cell_type": "code",
   "execution_count": 7,
   "metadata": {},
   "outputs": [],
   "source": [
    "def plotbar(x,counts,facecolor='blue',alpha=1, \n",
    "               xlabel='',ylabel='counts',title='',logflag=0,axlims=[0]):\n",
    "    '''\n",
    "    input: x-> x-axes of bar-plot of the histogram, counts-> corresponding counts to x-axis, facecolor, \n",
    "    alpha-> transparency value, xlabel,ylabel,title, logflag-> 0: no 1: logx 2:logy 3:loglog\n",
    "    '''\n",
    "    if logflag==1 or logflag==3:\n",
    "        plt.xscale('log')\n",
    "    if logflag==2 or logflag==3:\n",
    "            logy=True\n",
    "    else: logy=False\n",
    "    \n",
    "    # the histogram of the data\n",
    "    plt.bar(x[:-1], counts[:-1], np.diff(x) , facecolor=facecolor, alpha=alpha, log=logy)\n",
    "    \n",
    "    plt.xlabel(xlabel)\n",
    "    plt.ylabel(ylabel)\n",
    "    plt.title(title)\n",
    "    if len(axlims)==4:\n",
    "        plt.axis(axlims)\n",
    "    plt.grid(True)"
   ]
  },
  {
   "cell_type": "code",
   "execution_count": 8,
   "metadata": {
    "scrolled": true
   },
   "outputs": [
    {
     "data": {
      "image/png": "[encoded data removed]",
      "text/plain": [
       "<Figure size 432x288 with 1 Axes>"
      ]
     },
     "metadata": {},
     "output_type": "display_data"
    }
   ],
   "source": [
    "#for i in range(0,100):\n",
    "#    print d_ds[i],d_counts[i]\n",
    "plotbar(d_ds,d_counts,xlabel='diameter',logflag=3,axlims=[10**-5, 10**-1, 1, 10**6])"
   ]
  },
  {
   "cell_type": "code",
   "execution_count": 9,
   "metadata": {},
   "outputs": [],
   "source": [
    "def plot1Dhist(x,bins,normed=1,facecolor='blue',alpha=1, \n",
    "               xlabel='',ylabel='counts',title='',logflag=0,axlims=[0]):\n",
    "    '''\n",
    "    input: x->main variable of the histogram, bins, normed-> normalize flag, number_of_bins, facecolor, \n",
    "    alpha-> transparency value, xlabel,ylabel,title, logflag-> 0: no 1: logx 2:logy 3:loglog\n",
    "    '''\n",
    "    if logflag==1 or logflag==3:\n",
    "        plt.xscale('log')\n",
    "    if logflag==2 or logflag==3:\n",
    "            logy=True\n",
    "    else: logy=False\n",
    "    \n",
    "    # the histogram of the data\n",
    "    n, bins, patches = plt.hist(x, bins=bins, normed=normed, facecolor=facecolor, alpha=alpha, log=logy)\n",
    "    \n",
    "    plt.xlabel(xlabel)\n",
    "    plt.ylabel(ylabel)\n",
    "    plt.title(title)\n",
    "    plt.axis([10**-5, 1, 1, 10**6])\n",
    "    if len(axlims)==4:\n",
    "        plt.axis(axlims)\n",
    "    plt.grid(True)"
   ]
  },
  {
   "cell_type": "code",
   "execution_count": 14,
   "metadata": {},
   "outputs": [
    {
     "data": {
      "image/png": "[encoded data removed]",
      "text/plain": [
       "<Figure size 432x288 with 1 Axes>"
      ]
     },
     "metadata": {},
     "output_type": "display_data"
    }
   ],
   "source": [
    "#plotting_functions.plot1Dhist(m_tot)\n",
    "#print dir(),plt\n",
    "plot1Dhist(diam,10**np.linspace(-5,-1),normed=0,xlabel=\"diameter\",logflag=3,axlims=[10**-5, 10**-1, 1, 2*10**4])"
   ]
  },
  {
   "cell_type": "code",
   "execution_count": 11,
   "metadata": {},
   "outputs": [
    {
     "name": "stdout",
     "output_type": "stream",
     "text": [
      "[NbConvertApp] Converting notebook McSnow_tests.ipynb to script\n",
      "[NbConvertApp] Writing 3009 bytes to McSnow_tests.py\n"
     ]
    }
   ],
   "source": [
    "!jupyter nbconvert --to script McSnow_tests.ipynb"
   ]
  },
  {
   "cell_type": "code",
   "execution_count": null,
   "metadata": {},
   "outputs": [],
   "source": []
  },
  {
   "cell_type": "code",
   "execution_count": null,
   "metadata": {},
   "outputs": [],
   "source": []
  },
  {
   "cell_type": "code",
   "execution_count": null,
   "metadata": {},
   "outputs": [],
   "source": []
  }
 ],
 "metadata": {
  "kernelspec": {
   "display_name": "Python 2",
   "language": "python",
   "name": "python2"
  },
  "language_info": {
   "codemirror_mode": {
    "name": "ipython",
    "version": 2
   },
   "file_extension": ".py",
   "mimetype": "text/x-python",
   "name": "python",
   "nbconvert_exporter": "python",
   "pygments_lexer": "ipython2",
   "version": "2.7.12"
  }
 },
 "nbformat": 4,
 "nbformat_minor": 2
}
